{
  "nbformat": 4,
  "nbformat_minor": 0,
  "metadata": {
    "colab": {
      "name": "Anomaly Detection on Sensor Data.ipynb",
      "provenance": [],
      "collapsed_sections": [],
      "authorship_tag": "ABX9TyMHeN6pTSWG9WlFrO2YbZus",
      "include_colab_link": true
    },
    "kernelspec": {
      "name": "python3",
      "display_name": "Python 3"
    },
    "accelerator": "GPU"
  },
  "cells": [
    {
      "cell_type": "markdown",
      "metadata": {
        "id": "view-in-github",
        "colab_type": "text"
      },
      "source": [
        "<a href=\"https://colab.research.google.com/github/AnandUgale/SimilarProductionDetection/blob/master/Anomaly_Detection_on_Sensor_Data_2.ipynb\" target=\"_parent\"><img src=\"https://colab.research.google.com/assets/colab-badge.svg\" alt=\"Open In Colab\"/></a>"
      ]
    },
    {
      "cell_type": "code",
      "metadata": {
        "id": "p14Zc30VkFre",
        "colab_type": "code",
        "outputId": "fd5074fa-1ae3-4514-d797-c0e7895eaebf",
        "colab": {
          "base_uri": "https://localhost:8080/",
          "height": 80
        }
      },
      "source": [
        "# install necessary packages\n",
        "import os\n",
        "import numpy as np\n",
        "import pandas as pd\n",
        "from sklearn.preprocessing import MinMaxScaler\n",
        "import joblib\n",
        "import seaborn as sns\n",
        "sns.set(color_codes=True)\n",
        "import matplotlib.pyplot as plt\n",
        "%matplotlib inline\n",
        "\n",
        "from numpy.random import seed\n",
        "from tensorflow import set_random_seed\n",
        "import tensorflow as tf\n",
        "tf.logging.set_verbosity(tf.logging.ERROR)\n",
        "\n",
        "from keras.layers import Input, Dense, Dropout, LSTM, TimeDistributed, RepeatVector\n",
        "from keras.models import Model\n",
        "from keras import regularizers"
      ],
      "execution_count": 1,
      "outputs": [
        {
          "output_type": "display_data",
          "data": {
            "text/html": [
              "<p style=\"color: red;\">\n",
              "The default version of TensorFlow in Colab will soon switch to TensorFlow 2.x.<br>\n",
              "We recommend you <a href=\"https://www.tensorflow.org/guide/migrate\" target=\"_blank\">upgrade</a> now \n",
              "or ensure your notebook will continue to use TensorFlow 1.x via the <code>%tensorflow_version 1.x</code> magic:\n",
              "<a href=\"https://colab.research.google.com/notebooks/tensorflow_version.ipynb\" target=\"_blank\">more info</a>.</p>\n"
            ],
            "text/plain": [
              "<IPython.core.display.HTML object>"
            ]
          },
          "metadata": {
            "tags": []
          }
        },
        {
          "output_type": "stream",
          "text": [
            "Using TensorFlow backend.\n"
          ],
          "name": "stderr"
        }
      ]
    },
    {
      "cell_type": "code",
      "metadata": {
        "id": "KZrGz7qdkIXm",
        "colab_type": "code",
        "colab": {}
      },
      "source": [
        "# set random seed\n",
        "seed(10)\n",
        "set_random_seed(10)"
      ],
      "execution_count": 0,
      "outputs": []
    },
    {
      "cell_type": "code",
      "metadata": {
        "id": "yiGOYYWCkLmw",
        "colab_type": "code",
        "colab": {}
      },
      "source": [
        "df_train = pd.read_csv('/content/data.csv')\n",
        "df_test = pd.read_csv('/content/sample_20200212.csv')"
      ],
      "execution_count": 0,
      "outputs": []
    },
    {
      "cell_type": "code",
      "metadata": {
        "id": "9OOPHQ93Hbke",
        "colab_type": "code",
        "colab": {
          "base_uri": "https://localhost:8080/",
          "height": 276
        },
        "outputId": "4468f646-e034-4794-8cb3-25b1289c534c"
      },
      "source": [
        "df_train.info()"
      ],
      "execution_count": 4,
      "outputs": [
        {
          "output_type": "stream",
          "text": [
            "<class 'pandas.core.frame.DataFrame'>\n",
            "RangeIndex: 28898 entries, 0 to 28897\n",
            "Data columns (total 10 columns):\n",
            "Timestamp                       28898 non-null int64\n",
            "jobName                         28898 non-null object\n",
            "values_PostStage                28898 non-null float64\n",
            "values_MidStage                 28898 non-null float64\n",
            "values_ConveyorBeltTimestamp    28898 non-null object\n",
            "sourceName                      28898 non-null object\n",
            "_timestamp                      28898 non-null object\n",
            "_version                        28898 non-null int64\n",
            "values_PreStage                 28898 non-null float64\n",
            "Timestamp_HR                    28898 non-null object\n",
            "dtypes: float64(3), int64(2), object(5)\n",
            "memory usage: 2.2+ MB\n"
          ],
          "name": "stdout"
        }
      ]
    },
    {
      "cell_type": "code",
      "metadata": {
        "id": "FupDGc1ck2xH",
        "colab_type": "code",
        "outputId": "c0e56fad-a3ef-41ba-9719-1a5c7ec6f509",
        "colab": {
          "base_uri": "https://localhost:8080/",
          "height": 207
        }
      },
      "source": [
        "df_train.nunique()"
      ],
      "execution_count": 5,
      "outputs": [
        {
          "output_type": "execute_result",
          "data": {
            "text/plain": [
              "Timestamp                        2702\n",
              "jobName                             1\n",
              "values_PostStage                20158\n",
              "values_MidStage                 20158\n",
              "values_ConveyorBeltTimestamp        1\n",
              "sourceName                          2\n",
              "_timestamp                          1\n",
              "_version                            1\n",
              "values_PreStage                 20158\n",
              "Timestamp_HR                     2702\n",
              "dtype: int64"
            ]
          },
          "metadata": {
            "tags": []
          },
          "execution_count": 5
        }
      ]
    },
    {
      "cell_type": "code",
      "metadata": {
        "id": "SCZw91v9HyHD",
        "colab_type": "code",
        "colab": {
          "base_uri": "https://localhost:8080/",
          "height": 207
        },
        "outputId": "3cf89d89-8b1d-4346-b805-a31c3a16a0a9"
      },
      "source": [
        "df_test.info()"
      ],
      "execution_count": 6,
      "outputs": [
        {
          "output_type": "stream",
          "text": [
            "<class 'pandas.core.frame.DataFrame'>\n",
            "RangeIndex: 149568 entries, 0 to 149567\n",
            "Data columns (total 6 columns):\n",
            "Timestamp           149568 non-null int64\n",
            "values_PostStage    149568 non-null float64\n",
            "values_MidStage     149568 non-null float64\n",
            "sourceName          149568 non-null object\n",
            "values_PreStage     149568 non-null float64\n",
            "Timestamp_HR        149568 non-null object\n",
            "dtypes: float64(3), int64(1), object(2)\n",
            "memory usage: 6.8+ MB\n"
          ],
          "name": "stdout"
        }
      ]
    },
    {
      "cell_type": "code",
      "metadata": {
        "id": "4T5SnawwHyVA",
        "colab_type": "code",
        "colab": {
          "base_uri": "https://localhost:8080/",
          "height": 138
        },
        "outputId": "4a06dfd4-f8a9-4b37-8f7a-1f408bf6b77f"
      },
      "source": [
        "df_test.nunique()"
      ],
      "execution_count": 7,
      "outputs": [
        {
          "output_type": "execute_result",
          "data": {
            "text/plain": [
              "Timestamp            14941\n",
              "values_PostStage    102954\n",
              "values_MidStage     102942\n",
              "sourceName               2\n",
              "values_PreStage     102948\n",
              "Timestamp_HR         14941\n",
              "dtype: int64"
            ]
          },
          "metadata": {
            "tags": []
          },
          "execution_count": 7
        }
      ]
    },
    {
      "cell_type": "code",
      "metadata": {
        "id": "k3M_xT8tIEQe",
        "colab_type": "code",
        "colab": {
          "base_uri": "https://localhost:8080/",
          "height": 198
        },
        "outputId": "d61322d1-e3f5-4f02-c7e9-b6c01f6e9c30"
      },
      "source": [
        "df_test.head()"
      ],
      "execution_count": 8,
      "outputs": [
        {
          "output_type": "execute_result",
          "data": {
            "text/html": [
              "<div>\n",
              "<style scoped>\n",
              "    .dataframe tbody tr th:only-of-type {\n",
              "        vertical-align: middle;\n",
              "    }\n",
              "\n",
              "    .dataframe tbody tr th {\n",
              "        vertical-align: top;\n",
              "    }\n",
              "\n",
              "    .dataframe thead th {\n",
              "        text-align: right;\n",
              "    }\n",
              "</style>\n",
              "<table border=\"1\" class=\"dataframe\">\n",
              "  <thead>\n",
              "    <tr style=\"text-align: right;\">\n",
              "      <th></th>\n",
              "      <th>Timestamp</th>\n",
              "      <th>values_PostStage</th>\n",
              "      <th>values_MidStage</th>\n",
              "      <th>sourceName</th>\n",
              "      <th>values_PreStage</th>\n",
              "      <th>Timestamp_HR</th>\n",
              "    </tr>\n",
              "  </thead>\n",
              "  <tbody>\n",
              "    <tr>\n",
              "      <th>0</th>\n",
              "      <td>1581498216</td>\n",
              "      <td>89.642216</td>\n",
              "      <td>66.550189</td>\n",
              "      <td>sensors1</td>\n",
              "      <td>23.833349</td>\n",
              "      <td>09:03:36</td>\n",
              "    </tr>\n",
              "    <tr>\n",
              "      <th>1</th>\n",
              "      <td>1581498216</td>\n",
              "      <td>89.642216</td>\n",
              "      <td>66.550189</td>\n",
              "      <td>sensors2</td>\n",
              "      <td>23.833349</td>\n",
              "      <td>09:03:36</td>\n",
              "    </tr>\n",
              "    <tr>\n",
              "      <th>2</th>\n",
              "      <td>1581498216</td>\n",
              "      <td>92.055269</td>\n",
              "      <td>64.740733</td>\n",
              "      <td>sensors1</td>\n",
              "      <td>26.217064</td>\n",
              "      <td>09:03:36</td>\n",
              "    </tr>\n",
              "    <tr>\n",
              "      <th>3</th>\n",
              "      <td>1581498216</td>\n",
              "      <td>92.055269</td>\n",
              "      <td>64.740733</td>\n",
              "      <td>sensors2</td>\n",
              "      <td>26.217064</td>\n",
              "      <td>09:03:36</td>\n",
              "    </tr>\n",
              "    <tr>\n",
              "      <th>4</th>\n",
              "      <td>1581498216</td>\n",
              "      <td>89.879600</td>\n",
              "      <td>63.936600</td>\n",
              "      <td>sensors1</td>\n",
              "      <td>23.439999</td>\n",
              "      <td>09:03:36</td>\n",
              "    </tr>\n",
              "  </tbody>\n",
              "</table>\n",
              "</div>"
            ],
            "text/plain": [
              "    Timestamp  values_PostStage  ...  values_PreStage Timestamp_HR\n",
              "0  1581498216         89.642216  ...        23.833349     09:03:36\n",
              "1  1581498216         89.642216  ...        23.833349     09:03:36\n",
              "2  1581498216         92.055269  ...        26.217064     09:03:36\n",
              "3  1581498216         92.055269  ...        26.217064     09:03:36\n",
              "4  1581498216         89.879600  ...        23.439999     09:03:36\n",
              "\n",
              "[5 rows x 6 columns]"
            ]
          },
          "metadata": {
            "tags": []
          },
          "execution_count": 8
        }
      ]
    },
    {
      "cell_type": "code",
      "metadata": {
        "id": "UrFGyrC5k6nJ",
        "colab_type": "code",
        "colab": {}
      },
      "source": [
        "df_train.drop(labels=['Timestamp', 'jobName', 'values_ConveyorBeltTimestamp', '_timestamp', '_version'], axis=1, inplace=True)\n",
        "df_test.drop(labels=['Timestamp'], axis=1, inplace=True)"
      ],
      "execution_count": 0,
      "outputs": []
    },
    {
      "cell_type": "code",
      "metadata": {
        "id": "-YPEDLr5l3Do",
        "colab_type": "code",
        "outputId": "cac394cd-b039-41fd-9372-2d191edf3d4b",
        "colab": {
          "base_uri": "https://localhost:8080/",
          "height": 198
        }
      },
      "source": [
        "df_train.head()"
      ],
      "execution_count": 10,
      "outputs": [
        {
          "output_type": "execute_result",
          "data": {
            "text/html": [
              "<div>\n",
              "<style scoped>\n",
              "    .dataframe tbody tr th:only-of-type {\n",
              "        vertical-align: middle;\n",
              "    }\n",
              "\n",
              "    .dataframe tbody tr th {\n",
              "        vertical-align: top;\n",
              "    }\n",
              "\n",
              "    .dataframe thead th {\n",
              "        text-align: right;\n",
              "    }\n",
              "</style>\n",
              "<table border=\"1\" class=\"dataframe\">\n",
              "  <thead>\n",
              "    <tr style=\"text-align: right;\">\n",
              "      <th></th>\n",
              "      <th>values_PostStage</th>\n",
              "      <th>values_MidStage</th>\n",
              "      <th>sourceName</th>\n",
              "      <th>values_PreStage</th>\n",
              "      <th>Timestamp_HR</th>\n",
              "    </tr>\n",
              "  </thead>\n",
              "  <tbody>\n",
              "    <tr>\n",
              "      <th>0</th>\n",
              "      <td>92.595291</td>\n",
              "      <td>64.930687</td>\n",
              "      <td>sensors1</td>\n",
              "      <td>27.138446</td>\n",
              "      <td>2/7/2020 9:09:09</td>\n",
              "    </tr>\n",
              "    <tr>\n",
              "      <th>1</th>\n",
              "      <td>90.499815</td>\n",
              "      <td>64.402893</td>\n",
              "      <td>sensors2</td>\n",
              "      <td>25.619771</td>\n",
              "      <td>2/7/2020 9:09:09</td>\n",
              "    </tr>\n",
              "    <tr>\n",
              "      <th>2</th>\n",
              "      <td>89.024493</td>\n",
              "      <td>65.099289</td>\n",
              "      <td>sensors1</td>\n",
              "      <td>24.361520</td>\n",
              "      <td>2/7/2020 9:09:09</td>\n",
              "    </tr>\n",
              "    <tr>\n",
              "      <th>3</th>\n",
              "      <td>88.263517</td>\n",
              "      <td>64.992419</td>\n",
              "      <td>sensors2</td>\n",
              "      <td>25.840487</td>\n",
              "      <td>2/7/2020 9:09:09</td>\n",
              "    </tr>\n",
              "    <tr>\n",
              "      <th>4</th>\n",
              "      <td>88.099106</td>\n",
              "      <td>65.409816</td>\n",
              "      <td>sensors1</td>\n",
              "      <td>26.172290</td>\n",
              "      <td>2/7/2020 9:09:09</td>\n",
              "    </tr>\n",
              "  </tbody>\n",
              "</table>\n",
              "</div>"
            ],
            "text/plain": [
              "   values_PostStage  values_MidStage  ... values_PreStage      Timestamp_HR\n",
              "0         92.595291        64.930687  ...       27.138446  2/7/2020 9:09:09\n",
              "1         90.499815        64.402893  ...       25.619771  2/7/2020 9:09:09\n",
              "2         89.024493        65.099289  ...       24.361520  2/7/2020 9:09:09\n",
              "3         88.263517        64.992419  ...       25.840487  2/7/2020 9:09:09\n",
              "4         88.099106        65.409816  ...       26.172290  2/7/2020 9:09:09\n",
              "\n",
              "[5 rows x 5 columns]"
            ]
          },
          "metadata": {
            "tags": []
          },
          "execution_count": 10
        }
      ]
    },
    {
      "cell_type": "code",
      "metadata": {
        "id": "MGX1AMQUnuAr",
        "colab_type": "code",
        "outputId": "b1419050-a1a5-4db6-a99a-c15f6411cf7e",
        "colab": {
          "base_uri": "https://localhost:8080/",
          "height": 198
        }
      },
      "source": [
        "df_test.head()"
      ],
      "execution_count": 11,
      "outputs": [
        {
          "output_type": "execute_result",
          "data": {
            "text/html": [
              "<div>\n",
              "<style scoped>\n",
              "    .dataframe tbody tr th:only-of-type {\n",
              "        vertical-align: middle;\n",
              "    }\n",
              "\n",
              "    .dataframe tbody tr th {\n",
              "        vertical-align: top;\n",
              "    }\n",
              "\n",
              "    .dataframe thead th {\n",
              "        text-align: right;\n",
              "    }\n",
              "</style>\n",
              "<table border=\"1\" class=\"dataframe\">\n",
              "  <thead>\n",
              "    <tr style=\"text-align: right;\">\n",
              "      <th></th>\n",
              "      <th>values_PostStage</th>\n",
              "      <th>values_MidStage</th>\n",
              "      <th>sourceName</th>\n",
              "      <th>values_PreStage</th>\n",
              "      <th>Timestamp_HR</th>\n",
              "    </tr>\n",
              "  </thead>\n",
              "  <tbody>\n",
              "    <tr>\n",
              "      <th>0</th>\n",
              "      <td>89.642216</td>\n",
              "      <td>66.550189</td>\n",
              "      <td>sensors1</td>\n",
              "      <td>23.833349</td>\n",
              "      <td>09:03:36</td>\n",
              "    </tr>\n",
              "    <tr>\n",
              "      <th>1</th>\n",
              "      <td>89.642216</td>\n",
              "      <td>66.550189</td>\n",
              "      <td>sensors2</td>\n",
              "      <td>23.833349</td>\n",
              "      <td>09:03:36</td>\n",
              "    </tr>\n",
              "    <tr>\n",
              "      <th>2</th>\n",
              "      <td>92.055269</td>\n",
              "      <td>64.740733</td>\n",
              "      <td>sensors1</td>\n",
              "      <td>26.217064</td>\n",
              "      <td>09:03:36</td>\n",
              "    </tr>\n",
              "    <tr>\n",
              "      <th>3</th>\n",
              "      <td>92.055269</td>\n",
              "      <td>64.740733</td>\n",
              "      <td>sensors2</td>\n",
              "      <td>26.217064</td>\n",
              "      <td>09:03:36</td>\n",
              "    </tr>\n",
              "    <tr>\n",
              "      <th>4</th>\n",
              "      <td>89.879600</td>\n",
              "      <td>63.936600</td>\n",
              "      <td>sensors1</td>\n",
              "      <td>23.439999</td>\n",
              "      <td>09:03:36</td>\n",
              "    </tr>\n",
              "  </tbody>\n",
              "</table>\n",
              "</div>"
            ],
            "text/plain": [
              "   values_PostStage  values_MidStage sourceName  values_PreStage Timestamp_HR\n",
              "0         89.642216        66.550189   sensors1        23.833349     09:03:36\n",
              "1         89.642216        66.550189   sensors2        23.833349     09:03:36\n",
              "2         92.055269        64.740733   sensors1        26.217064     09:03:36\n",
              "3         92.055269        64.740733   sensors2        26.217064     09:03:36\n",
              "4         89.879600        63.936600   sensors1        23.439999     09:03:36"
            ]
          },
          "metadata": {
            "tags": []
          },
          "execution_count": 11
        }
      ]
    },
    {
      "cell_type": "code",
      "metadata": {
        "id": "YYa8NnI9n_Rk",
        "colab_type": "code",
        "colab": {}
      },
      "source": [
        "df_train_new = df_train.groupby('Timestamp_HR', as_index=False)['values_PostStage', 'values_MidStage', 'values_PreStage'].mean()\n",
        "df_test_new = df_test.groupby('Timestamp_HR', as_index=False)['values_PostStage', 'values_MidStage', 'values_PreStage'].mean()"
      ],
      "execution_count": 0,
      "outputs": []
    },
    {
      "cell_type": "code",
      "metadata": {
        "id": "mkSpNBdMn_lx",
        "colab_type": "code",
        "outputId": "64145ce3-832e-43db-e34c-7dd9df95a653",
        "colab": {
          "base_uri": "https://localhost:8080/",
          "height": 173
        }
      },
      "source": [
        "df_train_new.info()"
      ],
      "execution_count": 13,
      "outputs": [
        {
          "output_type": "stream",
          "text": [
            "<class 'pandas.core.frame.DataFrame'>\n",
            "Int64Index: 2702 entries, 0 to 2701\n",
            "Data columns (total 4 columns):\n",
            "Timestamp_HR        2702 non-null object\n",
            "values_PostStage    2702 non-null float64\n",
            "values_MidStage     2702 non-null float64\n",
            "values_PreStage     2702 non-null float64\n",
            "dtypes: float64(3), object(1)\n",
            "memory usage: 105.5+ KB\n"
          ],
          "name": "stdout"
        }
      ]
    },
    {
      "cell_type": "code",
      "metadata": {
        "id": "HgBmpkV9n_pt",
        "colab_type": "code",
        "colab": {}
      },
      "source": [
        "# set index\n",
        "df_train_new.set_index('Timestamp_HR', inplace=True)"
      ],
      "execution_count": 0,
      "outputs": []
    },
    {
      "cell_type": "code",
      "metadata": {
        "id": "SmIQ9lgbl4lL",
        "colab_type": "code",
        "outputId": "000ff03c-135c-4ce7-b422-e1a43ad44f4d",
        "colab": {
          "base_uri": "https://localhost:8080/",
          "height": 155
        }
      },
      "source": [
        "df_train_new.info()"
      ],
      "execution_count": 15,
      "outputs": [
        {
          "output_type": "stream",
          "text": [
            "<class 'pandas.core.frame.DataFrame'>\n",
            "Index: 2702 entries, 2/7/2020 9:09:09 to 2/7/2020 9:57:39\n",
            "Data columns (total 3 columns):\n",
            "values_PostStage    2702 non-null float64\n",
            "values_MidStage     2702 non-null float64\n",
            "values_PreStage     2702 non-null float64\n",
            "dtypes: float64(3)\n",
            "memory usage: 84.4+ KB\n"
          ],
          "name": "stdout"
        }
      ]
    },
    {
      "cell_type": "code",
      "metadata": {
        "id": "soWNYsj9oRh7",
        "colab_type": "code",
        "outputId": "e3700c72-f452-499c-83cf-b5a5764cb02f",
        "colab": {
          "base_uri": "https://localhost:8080/",
          "height": 228
        }
      },
      "source": [
        "df_train_new.head()"
      ],
      "execution_count": 16,
      "outputs": [
        {
          "output_type": "execute_result",
          "data": {
            "text/html": [
              "<div>\n",
              "<style scoped>\n",
              "    .dataframe tbody tr th:only-of-type {\n",
              "        vertical-align: middle;\n",
              "    }\n",
              "\n",
              "    .dataframe tbody tr th {\n",
              "        vertical-align: top;\n",
              "    }\n",
              "\n",
              "    .dataframe thead th {\n",
              "        text-align: right;\n",
              "    }\n",
              "</style>\n",
              "<table border=\"1\" class=\"dataframe\">\n",
              "  <thead>\n",
              "    <tr style=\"text-align: right;\">\n",
              "      <th></th>\n",
              "      <th>values_PostStage</th>\n",
              "      <th>values_MidStage</th>\n",
              "      <th>values_PreStage</th>\n",
              "    </tr>\n",
              "    <tr>\n",
              "      <th>Timestamp_HR</th>\n",
              "      <th></th>\n",
              "      <th></th>\n",
              "      <th></th>\n",
              "    </tr>\n",
              "  </thead>\n",
              "  <tbody>\n",
              "    <tr>\n",
              "      <th>2/7/2020 9:09:09</th>\n",
              "      <td>89.761779</td>\n",
              "      <td>64.819085</td>\n",
              "      <td>25.588651</td>\n",
              "    </tr>\n",
              "    <tr>\n",
              "      <th>2/7/2020 9:09:10</th>\n",
              "      <td>90.471943</td>\n",
              "      <td>64.696170</td>\n",
              "      <td>24.770616</td>\n",
              "    </tr>\n",
              "    <tr>\n",
              "      <th>2/7/2020 9:09:11</th>\n",
              "      <td>89.803776</td>\n",
              "      <td>65.278842</td>\n",
              "      <td>24.946765</td>\n",
              "    </tr>\n",
              "    <tr>\n",
              "      <th>2/7/2020 9:09:12</th>\n",
              "      <td>90.027319</td>\n",
              "      <td>64.789562</td>\n",
              "      <td>24.750992</td>\n",
              "    </tr>\n",
              "    <tr>\n",
              "      <th>2/7/2020 9:09:13</th>\n",
              "      <td>89.799183</td>\n",
              "      <td>65.006167</td>\n",
              "      <td>25.567681</td>\n",
              "    </tr>\n",
              "  </tbody>\n",
              "</table>\n",
              "</div>"
            ],
            "text/plain": [
              "                  values_PostStage  values_MidStage  values_PreStage\n",
              "Timestamp_HR                                                        \n",
              "2/7/2020 9:09:09         89.761779        64.819085        25.588651\n",
              "2/7/2020 9:09:10         90.471943        64.696170        24.770616\n",
              "2/7/2020 9:09:11         89.803776        65.278842        24.946765\n",
              "2/7/2020 9:09:12         90.027319        64.789562        24.750992\n",
              "2/7/2020 9:09:13         89.799183        65.006167        25.567681"
            ]
          },
          "metadata": {
            "tags": []
          },
          "execution_count": 16
        }
      ]
    },
    {
      "cell_type": "code",
      "metadata": {
        "id": "M4zbKP7ppfx7",
        "colab_type": "code",
        "colab": {}
      },
      "source": [
        "df_train_new.to_csv('train.csv')"
      ],
      "execution_count": 0,
      "outputs": []
    },
    {
      "cell_type": "code",
      "metadata": {
        "id": "_fWXfFbDJQuy",
        "colab_type": "code",
        "colab": {
          "base_uri": "https://localhost:8080/",
          "height": 173
        },
        "outputId": "5509efeb-97e9-442e-8931-44784b32fba3"
      },
      "source": [
        "df_test_new.info()"
      ],
      "execution_count": 18,
      "outputs": [
        {
          "output_type": "stream",
          "text": [
            "<class 'pandas.core.frame.DataFrame'>\n",
            "Int64Index: 14941 entries, 0 to 14940\n",
            "Data columns (total 4 columns):\n",
            "Timestamp_HR        14941 non-null object\n",
            "values_PostStage    14941 non-null float64\n",
            "values_MidStage     14941 non-null float64\n",
            "values_PreStage     14941 non-null float64\n",
            "dtypes: float64(3), object(1)\n",
            "memory usage: 583.6+ KB\n"
          ],
          "name": "stdout"
        }
      ]
    },
    {
      "cell_type": "code",
      "metadata": {
        "id": "uUH2O27cJQ01",
        "colab_type": "code",
        "colab": {}
      },
      "source": [
        "# set index\n",
        "df_test_new.set_index('Timestamp_HR', inplace=True)"
      ],
      "execution_count": 0,
      "outputs": []
    },
    {
      "cell_type": "code",
      "metadata": {
        "id": "i92DrTk3JQyx",
        "colab_type": "code",
        "colab": {
          "base_uri": "https://localhost:8080/",
          "height": 155
        },
        "outputId": "b2e2cca6-ce66-4c1e-f21b-b0702f95bb00"
      },
      "source": [
        "df_test_new.info()"
      ],
      "execution_count": 20,
      "outputs": [
        {
          "output_type": "stream",
          "text": [
            "<class 'pandas.core.frame.DataFrame'>\n",
            "Index: 14941 entries, 09:03:36 to 13:23:56\n",
            "Data columns (total 3 columns):\n",
            "values_PostStage    14941 non-null float64\n",
            "values_MidStage     14941 non-null float64\n",
            "values_PreStage     14941 non-null float64\n",
            "dtypes: float64(3)\n",
            "memory usage: 466.9+ KB\n"
          ],
          "name": "stdout"
        }
      ]
    },
    {
      "cell_type": "code",
      "metadata": {
        "id": "evwNIVeVJQsY",
        "colab_type": "code",
        "colab": {
          "base_uri": "https://localhost:8080/",
          "height": 228
        },
        "outputId": "144edef0-1251-4b2a-f506-1eca9d515ffe"
      },
      "source": [
        "df_test_new.head()"
      ],
      "execution_count": 21,
      "outputs": [
        {
          "output_type": "execute_result",
          "data": {
            "text/html": [
              "<div>\n",
              "<style scoped>\n",
              "    .dataframe tbody tr th:only-of-type {\n",
              "        vertical-align: middle;\n",
              "    }\n",
              "\n",
              "    .dataframe tbody tr th {\n",
              "        vertical-align: top;\n",
              "    }\n",
              "\n",
              "    .dataframe thead th {\n",
              "        text-align: right;\n",
              "    }\n",
              "</style>\n",
              "<table border=\"1\" class=\"dataframe\">\n",
              "  <thead>\n",
              "    <tr style=\"text-align: right;\">\n",
              "      <th></th>\n",
              "      <th>values_PostStage</th>\n",
              "      <th>values_MidStage</th>\n",
              "      <th>values_PreStage</th>\n",
              "    </tr>\n",
              "    <tr>\n",
              "      <th>Timestamp_HR</th>\n",
              "      <th></th>\n",
              "      <th></th>\n",
              "      <th></th>\n",
              "    </tr>\n",
              "  </thead>\n",
              "  <tbody>\n",
              "    <tr>\n",
              "      <th>09:03:36</th>\n",
              "      <td>90.525695</td>\n",
              "      <td>65.075841</td>\n",
              "      <td>24.496804</td>\n",
              "    </tr>\n",
              "    <tr>\n",
              "      <th>09:03:37</th>\n",
              "      <td>90.269717</td>\n",
              "      <td>65.685547</td>\n",
              "      <td>25.055277</td>\n",
              "    </tr>\n",
              "    <tr>\n",
              "      <th>09:03:38</th>\n",
              "      <td>90.557231</td>\n",
              "      <td>65.217507</td>\n",
              "      <td>24.906444</td>\n",
              "    </tr>\n",
              "    <tr>\n",
              "      <th>09:03:39</th>\n",
              "      <td>89.820049</td>\n",
              "      <td>65.187712</td>\n",
              "      <td>24.694706</td>\n",
              "    </tr>\n",
              "    <tr>\n",
              "      <th>09:03:40</th>\n",
              "      <td>89.682135</td>\n",
              "      <td>64.897121</td>\n",
              "      <td>24.780168</td>\n",
              "    </tr>\n",
              "  </tbody>\n",
              "</table>\n",
              "</div>"
            ],
            "text/plain": [
              "              values_PostStage  values_MidStage  values_PreStage\n",
              "Timestamp_HR                                                    \n",
              "09:03:36             90.525695        65.075841        24.496804\n",
              "09:03:37             90.269717        65.685547        25.055277\n",
              "09:03:38             90.557231        65.217507        24.906444\n",
              "09:03:39             89.820049        65.187712        24.694706\n",
              "09:03:40             89.682135        64.897121        24.780168"
            ]
          },
          "metadata": {
            "tags": []
          },
          "execution_count": 21
        }
      ]
    },
    {
      "cell_type": "code",
      "metadata": {
        "id": "vEkwbKJdJlP9",
        "colab_type": "code",
        "colab": {}
      },
      "source": [
        "df_test_new.to_csv('test.csv')"
      ],
      "execution_count": 0,
      "outputs": []
    },
    {
      "cell_type": "code",
      "metadata": {
        "id": "0AQjkdcOpo56",
        "colab_type": "code",
        "colab": {}
      },
      "source": [
        "# Define train and test dataset\n",
        "df_train_new.drop(labels=['values_MidStage', 'values_PreStage'], axis=1, inplace=True)\n",
        "df_test_new.drop(labels=['values_MidStage', 'values_PreStage'], axis=1, inplace=True)"
      ],
      "execution_count": 0,
      "outputs": []
    },
    {
      "cell_type": "code",
      "metadata": {
        "id": "LMBn8XKaDT1J",
        "colab_type": "code",
        "outputId": "c3c84644-69c7-4dd4-f961-6c23db2b005c",
        "colab": {
          "base_uri": "https://localhost:8080/",
          "height": 228
        }
      },
      "source": [
        "df_train_new.head()"
      ],
      "execution_count": 25,
      "outputs": [
        {
          "output_type": "execute_result",
          "data": {
            "text/html": [
              "<div>\n",
              "<style scoped>\n",
              "    .dataframe tbody tr th:only-of-type {\n",
              "        vertical-align: middle;\n",
              "    }\n",
              "\n",
              "    .dataframe tbody tr th {\n",
              "        vertical-align: top;\n",
              "    }\n",
              "\n",
              "    .dataframe thead th {\n",
              "        text-align: right;\n",
              "    }\n",
              "</style>\n",
              "<table border=\"1\" class=\"dataframe\">\n",
              "  <thead>\n",
              "    <tr style=\"text-align: right;\">\n",
              "      <th></th>\n",
              "      <th>values_PostStage</th>\n",
              "    </tr>\n",
              "    <tr>\n",
              "      <th>Timestamp_HR</th>\n",
              "      <th></th>\n",
              "    </tr>\n",
              "  </thead>\n",
              "  <tbody>\n",
              "    <tr>\n",
              "      <th>2/7/2020 9:09:09</th>\n",
              "      <td>89.761779</td>\n",
              "    </tr>\n",
              "    <tr>\n",
              "      <th>2/7/2020 9:09:10</th>\n",
              "      <td>90.471943</td>\n",
              "    </tr>\n",
              "    <tr>\n",
              "      <th>2/7/2020 9:09:11</th>\n",
              "      <td>89.803776</td>\n",
              "    </tr>\n",
              "    <tr>\n",
              "      <th>2/7/2020 9:09:12</th>\n",
              "      <td>90.027319</td>\n",
              "    </tr>\n",
              "    <tr>\n",
              "      <th>2/7/2020 9:09:13</th>\n",
              "      <td>89.799183</td>\n",
              "    </tr>\n",
              "  </tbody>\n",
              "</table>\n",
              "</div>"
            ],
            "text/plain": [
              "                  values_PostStage\n",
              "Timestamp_HR                      \n",
              "2/7/2020 9:09:09         89.761779\n",
              "2/7/2020 9:09:10         90.471943\n",
              "2/7/2020 9:09:11         89.803776\n",
              "2/7/2020 9:09:12         90.027319\n",
              "2/7/2020 9:09:13         89.799183"
            ]
          },
          "metadata": {
            "tags": []
          },
          "execution_count": 25
        }
      ]
    },
    {
      "cell_type": "code",
      "metadata": {
        "id": "1oOJt61Ixkm3",
        "colab_type": "code",
        "colab": {
          "base_uri": "https://localhost:8080/",
          "height": 228
        },
        "outputId": "1c7d7881-421c-4a13-cda6-9c53fd9d79fe"
      },
      "source": [
        "df_test_new.head()"
      ],
      "execution_count": 26,
      "outputs": [
        {
          "output_type": "execute_result",
          "data": {
            "text/html": [
              "<div>\n",
              "<style scoped>\n",
              "    .dataframe tbody tr th:only-of-type {\n",
              "        vertical-align: middle;\n",
              "    }\n",
              "\n",
              "    .dataframe tbody tr th {\n",
              "        vertical-align: top;\n",
              "    }\n",
              "\n",
              "    .dataframe thead th {\n",
              "        text-align: right;\n",
              "    }\n",
              "</style>\n",
              "<table border=\"1\" class=\"dataframe\">\n",
              "  <thead>\n",
              "    <tr style=\"text-align: right;\">\n",
              "      <th></th>\n",
              "      <th>values_PostStage</th>\n",
              "    </tr>\n",
              "    <tr>\n",
              "      <th>Timestamp_HR</th>\n",
              "      <th></th>\n",
              "    </tr>\n",
              "  </thead>\n",
              "  <tbody>\n",
              "    <tr>\n",
              "      <th>09:03:36</th>\n",
              "      <td>90.525695</td>\n",
              "    </tr>\n",
              "    <tr>\n",
              "      <th>09:03:37</th>\n",
              "      <td>90.269717</td>\n",
              "    </tr>\n",
              "    <tr>\n",
              "      <th>09:03:38</th>\n",
              "      <td>90.557231</td>\n",
              "    </tr>\n",
              "    <tr>\n",
              "      <th>09:03:39</th>\n",
              "      <td>89.820049</td>\n",
              "    </tr>\n",
              "    <tr>\n",
              "      <th>09:03:40</th>\n",
              "      <td>89.682135</td>\n",
              "    </tr>\n",
              "  </tbody>\n",
              "</table>\n",
              "</div>"
            ],
            "text/plain": [
              "              values_PostStage\n",
              "Timestamp_HR                  \n",
              "09:03:36             90.525695\n",
              "09:03:37             90.269717\n",
              "09:03:38             90.557231\n",
              "09:03:39             89.820049\n",
              "09:03:40             89.682135"
            ]
          },
          "metadata": {
            "tags": []
          },
          "execution_count": 26
        }
      ]
    },
    {
      "cell_type": "code",
      "metadata": {
        "id": "aSoWAm2Tt1e4",
        "colab_type": "code",
        "colab": {}
      },
      "source": [
        "# split into train and test split\n",
        "train = df_train_new\n",
        "val = df_test_new"
      ],
      "execution_count": 0,
      "outputs": []
    },
    {
      "cell_type": "code",
      "metadata": {
        "id": "9_wCrlcIuWyn",
        "colab_type": "code",
        "outputId": "28f62a09-f87a-4add-ab4c-057bce041d44",
        "colab": {
          "base_uri": "https://localhost:8080/",
          "height": 34
        }
      },
      "source": [
        "train.shape, val.shape"
      ],
      "execution_count": 28,
      "outputs": [
        {
          "output_type": "execute_result",
          "data": {
            "text/plain": [
              "((2702, 1), (14941, 1))"
            ]
          },
          "metadata": {
            "tags": []
          },
          "execution_count": 28
        }
      ]
    },
    {
      "cell_type": "code",
      "metadata": {
        "id": "F9SbGERGuh9a",
        "colab_type": "code",
        "outputId": "c0408b6b-3e5b-4518-eb31-c158af9eb5ee",
        "colab": {
          "base_uri": "https://localhost:8080/",
          "height": 439
        }
      },
      "source": [
        "# Only fot values_PostStage\n",
        "fig, ax = plt.subplots(figsize=(14, 6), dpi=80)\n",
        "ax.plot(train['values_PostStage'], label='values_PostStage', color='blue', animated = True, linewidth=1)\n",
        "plt.legend(loc='lower left')\n",
        "ax.set_title('Sensor Training Data', fontsize=16)\n",
        "plt.show()"
      ],
      "execution_count": 29,
      "outputs": [
        {
          "output_type": "display_data",
          "data": {
            "image/png": "[encoded data removed]",
            "text/plain": [
              "<Figure size 1120x480 with 1 Axes>"
            ]
          },
          "metadata": {
            "tags": []
          }
        }
      ]
    },
    {
      "cell_type": "code",
      "metadata": {
        "id": "VXRorA1P9DXF",
        "colab_type": "code",
        "outputId": "4590f41e-c471-4057-c2db-b3f2f5cc1305",
        "colab": {
          "base_uri": "https://localhost:8080/",
          "height": 318
        }
      },
      "source": [
        "# Only fot values_PostStage\n",
        "fig, ax = plt.subplots(figsize=(10, 4), dpi=80)\n",
        "ax.plot(val['values_PostStage'][:200], label='values_PostStage', color='blue', animated = True, linewidth=1)\n",
        "plt.legend(loc='lower left')\n",
        "ax.set_title('Sensor Training Data', fontsize=16)\n",
        "plt.show()"
      ],
      "execution_count": 31,
      "outputs": [
        {
          "output_type": "display_data",
          "data": {
            "image/png": "[encoded data removed]",
            "text/plain": [
              "<Figure size 800x320 with 1 Axes>"
            ]
          },
          "metadata": {
            "tags": []
          }
        }
      ]
    },
    {
      "cell_type": "code",
      "metadata": {
        "id": "Zo8-hRaH9lMd",
        "colab_type": "code",
        "colab": {}
      },
      "source": [
        "# transforming data from the time domain to the frequency domain using fast Fourier transform\n",
        "train_fft = np.fft.fft(train)\n",
        "val_fft = np.fft.fft(val)"
      ],
      "execution_count": 0,
      "outputs": []
    },
    {
      "cell_type": "code",
      "metadata": {
        "id": "ehx4sMyq9wW5",
        "colab_type": "code",
        "outputId": "05605741-b749-40aa-9749-a7aa4de643b9",
        "colab": {
          "base_uri": "https://localhost:8080/",
          "height": 977
        }
      },
      "source": [
        "# frequencies of the healthy sensor signal\n",
        "fig, ax = plt.subplots(figsize=(14, 10), dpi=80)\n",
        "ax.plot(train_fft[:,0], label='values_PostStage', color='blue', animated = True, linewidth=1)\n",
        "plt.legend(loc='top left')\n",
        "ax.set_title('Sensor Training Data', fontsize=16)\n",
        "plt.show()"
      ],
      "execution_count": 33,
      "outputs": [
        {
          "output_type": "stream",
          "text": [
            "/usr/local/lib/python3.6/dist-packages/numpy/core/_asarray.py:85: ComplexWarning: Casting complex values to real discards the imaginary part\n",
            "  return array(a, dtype, copy=False, order=order)\n",
            "/usr/local/lib/python3.6/dist-packages/ipykernel_launcher.py:3: MatplotlibDeprecationWarning: Unrecognized location 'top left'. Falling back on 'best'; valid locations are\n",
            "\tbest\n",
            "\tupper right\n",
            "\tupper left\n",
            "\tlower left\n",
            "\tlower right\n",
            "\tright\n",
            "\tcenter left\n",
            "\tcenter right\n",
            "\tlower center\n",
            "\tupper center\n",
            "\tcenter\n",
            "This will raise an exception in 3.3.\n",
            "  This is separate from the ipykernel package so we can avoid doing imports until\n"
          ],
          "name": "stderr"
        },
        {
          "output_type": "display_data",
          "data": {
            "image/png": "[encoded data removed]",
            "text/plain": [
              "<Figure size 1120x800 with 1 Axes>"
            ]
          },
          "metadata": {
            "tags": []
          }
        }
      ]
    },
    {
      "cell_type": "code",
      "metadata": {
        "id": "GSabHhF--Klq",
        "colab_type": "code",
        "outputId": "af7876e5-65e8-4d14-99c7-fbe8782e7b96",
        "colab": {
          "base_uri": "https://localhost:8080/",
          "height": 715
        }
      },
      "source": [
        "# frequencies of the healthy sensor signal\n",
        "fig, ax = plt.subplots(figsize=(14, 10), dpi=80)\n",
        "ax.plot(val_fft[:,0], label='values_PostStage', color='blue', animated = True, linewidth=1)\n",
        "plt.legend(loc='lower left')\n",
        "ax.set_title('Sensor Training Data', fontsize=16)\n",
        "plt.show()"
      ],
      "execution_count": 34,
      "outputs": [
        {
          "output_type": "stream",
          "text": [
            "/usr/local/lib/python3.6/dist-packages/numpy/core/_asarray.py:85: ComplexWarning: Casting complex values to real discards the imaginary part\n",
            "  return array(a, dtype, copy=False, order=order)\n"
          ],
          "name": "stderr"
        },
        {
          "output_type": "display_data",
          "data": {
            "image/png": "[encoded data removed]",
            "text/plain": [
              "<Figure size 1120x800 with 1 Axes>"
            ]
          },
          "metadata": {
            "tags": []
          }
        }
      ]
    },
    {
      "cell_type": "code",
      "metadata": {
        "id": "NStXQexz-gGk",
        "colab_type": "code",
        "outputId": "99632f12-6e5c-4342-b155-435c1511a925",
        "colab": {
          "base_uri": "https://localhost:8080/",
          "height": 34
        }
      },
      "source": [
        "# first normalize it to a range between 0 and 1.\n",
        "# normalize the data\n",
        "scaler = MinMaxScaler()\n",
        "X_train = scaler.fit_transform(train)\n",
        "X_val = scaler.transform(val)\n",
        "scaler_filename = \"scaler_data\"\n",
        "joblib.dump(scaler, scaler_filename)"
      ],
      "execution_count": 35,
      "outputs": [
        {
          "output_type": "execute_result",
          "data": {
            "text/plain": [
              "['scaler_data']"
            ]
          },
          "metadata": {
            "tags": []
          },
          "execution_count": 35
        }
      ]
    },
    {
      "cell_type": "code",
      "metadata": {
        "id": "-4L158SGCzQb",
        "colab_type": "code",
        "outputId": "c87a4a70-7c3c-4786-98a0-4b79a635bfbd",
        "colab": {
          "base_uri": "https://localhost:8080/",
          "height": 34
        }
      },
      "source": [
        "X_train.shape"
      ],
      "execution_count": 36,
      "outputs": [
        {
          "output_type": "execute_result",
          "data": {
            "text/plain": [
              "(2702, 1)"
            ]
          },
          "metadata": {
            "tags": []
          },
          "execution_count": 36
        }
      ]
    },
    {
      "cell_type": "code",
      "metadata": {
        "id": "bGRkwG1qDiTk",
        "colab_type": "code",
        "outputId": "2ed1d2c9-9ec9-4e74-e72e-c86f2b1cf5a9",
        "colab": {
          "base_uri": "https://localhost:8080/",
          "height": 34
        }
      },
      "source": [
        "X_val.shape"
      ],
      "execution_count": 37,
      "outputs": [
        {
          "output_type": "execute_result",
          "data": {
            "text/plain": [
              "(14941, 1)"
            ]
          },
          "metadata": {
            "tags": []
          },
          "execution_count": 37
        }
      ]
    },
    {
      "cell_type": "code",
      "metadata": {
        "id": "qYNu24gNCquB",
        "colab_type": "code",
        "outputId": "88fce708-89a2-4e67-d015-3ca3e7c5de3c",
        "colab": {
          "base_uri": "https://localhost:8080/",
          "height": 52
        }
      },
      "source": [
        "# reshape inputs for LSTM [samples, timesteps, features]\n",
        "X_train = X_train.reshape(X_train.shape[0], 1, X_train.shape[1])\n",
        "print(\"Training data shape:\", X_train.shape)\n",
        "X_val = X_val.reshape(X_val.shape[0], 1, X_val.shape[1])\n",
        "print(\"Test data shape:\", X_val.shape)"
      ],
      "execution_count": 38,
      "outputs": [
        {
          "output_type": "stream",
          "text": [
            "Training data shape: (2702, 1, 1)\n",
            "Test data shape: (14941, 1, 1)\n"
          ],
          "name": "stdout"
        }
      ]
    },
    {
      "cell_type": "code",
      "metadata": {
        "id": "wXL72BLxDqJJ",
        "colab_type": "code",
        "colab": {}
      },
      "source": [
        "# define the autoencoder network model\n",
        "def autoencoder_model(X):\n",
        "    inputs = Input(shape=(X.shape[1], X.shape[2]))\n",
        "    L1 = LSTM(16, activation='relu', return_sequences=True, \n",
        "              kernel_regularizer=regularizers.l2(0.00))(inputs)\n",
        "    L2 = LSTM(4, activation='relu', return_sequences=False)(L1)\n",
        "    L3 = RepeatVector(X.shape[1])(L2)\n",
        "    L4 = LSTM(4, activation='relu', return_sequences=True)(L3)\n",
        "    L5 = LSTM(16, activation='relu', return_sequences=True)(L4)\n",
        "    output = TimeDistributed(Dense(X.shape[2]))(L5)    \n",
        "    model = Model(inputs=inputs, outputs=output)\n",
        "    return model"
      ],
      "execution_count": 0,
      "outputs": []
    },
    {
      "cell_type": "code",
      "metadata": {
        "id": "82bpQ1asDu1L",
        "colab_type": "code",
        "outputId": "3c3cc542-dbb8-4b10-96da-c59c9c0014d7",
        "colab": {
          "base_uri": "https://localhost:8080/",
          "height": 397
        }
      },
      "source": [
        "# create the autoencoder model\n",
        "model = autoencoder_model(X_train)\n",
        "model.compile(optimizer='adam', loss='mae')\n",
        "model.summary()"
      ],
      "execution_count": 40,
      "outputs": [
        {
          "output_type": "stream",
          "text": [
            "Model: \"model_1\"\n",
            "_________________________________________________________________\n",
            "Layer (type)                 Output Shape              Param #   \n",
            "=================================================================\n",
            "input_1 (InputLayer)         (None, 1, 1)              0         \n",
            "_________________________________________________________________\n",
            "lstm_1 (LSTM)                (None, 1, 16)             1152      \n",
            "_________________________________________________________________\n",
            "lstm_2 (LSTM)                (None, 4)                 336       \n",
            "_________________________________________________________________\n",
            "repeat_vector_1 (RepeatVecto (None, 1, 4)              0         \n",
            "_________________________________________________________________\n",
            "lstm_3 (LSTM)                (None, 1, 4)              144       \n",
            "_________________________________________________________________\n",
            "lstm_4 (LSTM)                (None, 1, 16)             1344      \n",
            "_________________________________________________________________\n",
            "time_distributed_1 (TimeDist (None, 1, 1)              17        \n",
            "=================================================================\n",
            "Total params: 2,993\n",
            "Trainable params: 2,993\n",
            "Non-trainable params: 0\n",
            "_________________________________________________________________\n"
          ],
          "name": "stdout"
        }
      ]
    },
    {
      "cell_type": "code",
      "metadata": {
        "id": "AeM6e8XDDyGd",
        "colab_type": "code",
        "outputId": "8b82ab10-1be2-4fe0-dfc9-9a1e80e7a352",
        "colab": {
          "base_uri": "https://localhost:8080/",
          "height": 1000
        }
      },
      "source": [
        "# fit the model to the data\n",
        "nb_epochs = 30\n",
        "batch_size = 100\n",
        "history = model.fit(X_train, X_train, epochs=nb_epochs, batch_size=batch_size,\n",
        "                    validation_split=0.05).history"
      ],
      "execution_count": 41,
      "outputs": [
        {
          "output_type": "stream",
          "text": [
            "Train on 2566 samples, validate on 136 samples\n",
            "Epoch 1/30\n",
            "2566/2566 [==============================] - 12s 5ms/step - loss: 0.4259 - val_loss: 0.4092\n",
            "Epoch 2/30\n",
            "2566/2566 [==============================] - 0s 149us/step - loss: 0.3919 - val_loss: 0.3732\n",
            "Epoch 3/30\n",
            "2566/2566 [==============================] - 0s 158us/step - loss: 0.3533 - val_loss: 0.3309\n",
            "Epoch 4/30\n",
            "2566/2566 [==============================] - 0s 161us/step - loss: 0.3067 - val_loss: 0.2790\n",
            "Epoch 5/30\n",
            "2566/2566 [==============================] - 0s 152us/step - loss: 0.2488 - val_loss: 0.2135\n",
            "Epoch 6/30\n",
            "2566/2566 [==============================] - 0s 156us/step - loss: 0.1747 - val_loss: 0.1280\n",
            "Epoch 7/30\n",
            "2566/2566 [==============================] - 0s 154us/step - loss: 0.0755 - val_loss: 0.0122\n",
            "Epoch 8/30\n",
            "2566/2566 [==============================] - 0s 163us/step - loss: 0.0142 - val_loss: 0.0108\n",
            "Epoch 9/30\n",
            "2566/2566 [==============================] - 0s 163us/step - loss: 0.0117 - val_loss: 0.0082\n",
            "Epoch 10/30\n",
            "2566/2566 [==============================] - 0s 159us/step - loss: 0.0112 - val_loss: 0.0082\n",
            "Epoch 11/30\n",
            "2566/2566 [==============================] - 0s 154us/step - loss: 0.0112 - val_loss: 0.0082\n",
            "Epoch 12/30\n",
            "2566/2566 [==============================] - 0s 162us/step - loss: 0.0112 - val_loss: 0.0082\n",
            "Epoch 13/30\n",
            "2566/2566 [==============================] - 0s 164us/step - loss: 0.0112 - val_loss: 0.0082\n",
            "Epoch 14/30\n",
            "2566/2566 [==============================] - 0s 158us/step - loss: 0.0112 - val_loss: 0.0082\n",
            "Epoch 15/30\n",
            "2566/2566 [==============================] - 0s 157us/step - loss: 0.0112 - val_loss: 0.0082\n",
            "Epoch 16/30\n",
            "2566/2566 [==============================] - 0s 152us/step - loss: 0.0112 - val_loss: 0.0082\n",
            "Epoch 17/30\n",
            "2566/2566 [==============================] - 0s 153us/step - loss: 0.0112 - val_loss: 0.0082\n",
            "Epoch 18/30\n",
            "2566/2566 [==============================] - 0s 155us/step - loss: 0.0112 - val_loss: 0.0082\n",
            "Epoch 19/30\n",
            "2566/2566 [==============================] - 0s 157us/step - loss: 0.0111 - val_loss: 0.0081\n",
            "Epoch 20/30\n",
            "2566/2566 [==============================] - 0s 156us/step - loss: 0.0111 - val_loss: 0.0081\n",
            "Epoch 21/30\n",
            "2566/2566 [==============================] - 0s 151us/step - loss: 0.0111 - val_loss: 0.0084\n",
            "Epoch 22/30\n",
            "2566/2566 [==============================] - 0s 160us/step - loss: 0.0111 - val_loss: 0.0081\n",
            "Epoch 23/30\n",
            "2566/2566 [==============================] - 0s 157us/step - loss: 0.0111 - val_loss: 0.0081\n",
            "Epoch 24/30\n",
            "2566/2566 [==============================] - 0s 159us/step - loss: 0.0111 - val_loss: 0.0081\n",
            "Epoch 25/30\n",
            "2566/2566 [==============================] - 0s 154us/step - loss: 0.0111 - val_loss: 0.0081\n",
            "Epoch 26/30\n",
            "2566/2566 [==============================] - 0s 152us/step - loss: 0.0111 - val_loss: 0.0081\n",
            "Epoch 27/30\n",
            "2566/2566 [==============================] - 0s 157us/step - loss: 0.0111 - val_loss: 0.0082\n",
            "Epoch 28/30\n",
            "2566/2566 [==============================] - 0s 186us/step - loss: 0.0112 - val_loss: 0.0081\n",
            "Epoch 29/30\n",
            "2566/2566 [==============================] - 0s 180us/step - loss: 0.0111 - val_loss: 0.0081\n",
            "Epoch 30/30\n",
            "2566/2566 [==============================] - 0s 169us/step - loss: 0.0110 - val_loss: 0.0081\n"
          ],
          "name": "stdout"
        }
      ]
    },
    {
      "cell_type": "code",
      "metadata": {
        "id": "Emf4BOUNEJyu",
        "colab_type": "code",
        "outputId": "19c59377-cd6c-44ba-9ea5-09e9c4db7608",
        "colab": {
          "base_uri": "https://localhost:8080/",
          "height": 268
        }
      },
      "source": [
        "plt.plot(history['loss'], label='train')\n",
        "plt.plot(history['val_loss'], label='val')\n",
        "plt.legend();"
      ],
      "execution_count": 42,
      "outputs": [
        {
          "output_type": "display_data",
          "data": {
            "image/png": "[encoded data removed]",
            "text/plain": [
              "<Figure size 432x288 with 1 Axes>"
            ]
          },
          "metadata": {
            "tags": []
          }
        }
      ]
    },
    {
      "cell_type": "code",
      "metadata": {
        "id": "a6tIpM0dEsJX",
        "colab_type": "code",
        "colab": {}
      },
      "source": [
        "# Finding Anomalies\n",
        "X_train_pred = model.predict(X_train)\n",
        "\n",
        "train_mae_loss = np.mean(np.abs(X_train_pred - X_train), axis=1)"
      ],
      "execution_count": 0,
      "outputs": []
    },
    {
      "cell_type": "code",
      "metadata": {
        "id": "rWsoIKZyFOJq",
        "colab_type": "code",
        "outputId": "aad62752-1662-44e3-c9a4-a9428ae85800",
        "colab": {
          "base_uri": "https://localhost:8080/",
          "height": 268
        }
      },
      "source": [
        "# look at the error:\n",
        "sns.distplot(train_mae_loss, bins=50, kde=True);"
      ],
      "execution_count": 44,
      "outputs": [
        {
          "output_type": "display_data",
          "data": {
            "image/png": "[encoded data removed]",
            "text/plain": [
              "<Figure size 432x288 with 1 Axes>"
            ]
          },
          "metadata": {
            "tags": []
          }
        }
      ]
    },
    {
      "cell_type": "code",
      "metadata": {
        "id": "Xhhyj-B9FPtE",
        "colab_type": "code",
        "colab": {}
      },
      "source": [
        "THRESHOLD = 0.03"
      ],
      "execution_count": 0,
      "outputs": []
    },
    {
      "cell_type": "code",
      "metadata": {
        "id": "YUjWnQr1FZMy",
        "colab_type": "code",
        "colab": {}
      },
      "source": [
        "# Let’s calculate the MAE on the test data:\n",
        "X_val_pred = model.predict(X_val)\n",
        "\n",
        "val_mae_loss = np.mean(np.abs(X_val_pred - X_val), axis=1)"
      ],
      "execution_count": 0,
      "outputs": []
    },
    {
      "cell_type": "code",
      "metadata": {
        "id": "yeZ9rvWwFhIu",
        "colab_type": "code",
        "colab": {}
      },
      "source": [
        "# We’ll build a DataFrame containing the loss and the anomalies (values above the threshold):\n",
        "val_score_df = pd.DataFrame(index=val.index)\n",
        "val_score_df['loss'] = val_mae_loss\n",
        "val_score_df['threshold'] = THRESHOLD\n",
        "val_score_df['anomaly'] = val_score_df.loss > val_score_df.threshold\n",
        "val_score_df['values_PostStage'] = val.values_PostStage"
      ],
      "execution_count": 0,
      "outputs": []
    },
    {
      "cell_type": "code",
      "metadata": {
        "id": "43zpWR_jF_hl",
        "colab_type": "code",
        "outputId": "f38f9eae-df4c-4665-a70e-474658302073",
        "colab": {
          "base_uri": "https://localhost:8080/",
          "height": 288
        }
      },
      "source": [
        "plt.plot(val_score_df.index, val_score_df.loss, label='loss')\n",
        "plt.plot(val_score_df.index, val_score_df.threshold, label='threshold')\n",
        "plt.xticks(rotation=25)\n",
        "plt.legend();"
      ],
      "execution_count": 48,
      "outputs": [
        {
          "output_type": "display_data",
          "data": {
            "image/png": "[encoded data removed]",
            "text/plain": [
              "<Figure size 432x288 with 1 Axes>"
            ]
          },
          "metadata": {
            "tags": []
          }
        }
      ]
    },
    {
      "cell_type": "code",
      "metadata": {
        "id": "0G2Uyq-oFwna",
        "colab_type": "code",
        "outputId": "3c01d473-8a29-4123-9a8f-5648e65be612",
        "colab": {
          "base_uri": "https://localhost:8080/",
          "height": 228
        }
      },
      "source": [
        "# Looks like we’re thresholding extreme values quite well. Let’s create a DataFrame using only those:\n",
        "anomalies = val_score_df[val_score_df.anomaly == True]\n",
        "anomalies.head()"
      ],
      "execution_count": 49,
      "outputs": [
        {
          "output_type": "execute_result",
          "data": {
            "text/html": [
              "<div>\n",
              "<style scoped>\n",
              "    .dataframe tbody tr th:only-of-type {\n",
              "        vertical-align: middle;\n",
              "    }\n",
              "\n",
              "    .dataframe tbody tr th {\n",
              "        vertical-align: top;\n",
              "    }\n",
              "\n",
              "    .dataframe thead th {\n",
              "        text-align: right;\n",
              "    }\n",
              "</style>\n",
              "<table border=\"1\" class=\"dataframe\">\n",
              "  <thead>\n",
              "    <tr style=\"text-align: right;\">\n",
              "      <th></th>\n",
              "      <th>loss</th>\n",
              "      <th>threshold</th>\n",
              "      <th>anomaly</th>\n",
              "      <th>values_PostStage</th>\n",
              "    </tr>\n",
              "    <tr>\n",
              "      <th>Timestamp_HR</th>\n",
              "      <th></th>\n",
              "      <th></th>\n",
              "      <th></th>\n",
              "      <th></th>\n",
              "    </tr>\n",
              "  </thead>\n",
              "  <tbody>\n",
              "    <tr>\n",
              "      <th>09:13:29</th>\n",
              "      <td>0.060315</td>\n",
              "      <td>0.03</td>\n",
              "      <td>True</td>\n",
              "      <td>91.848195</td>\n",
              "    </tr>\n",
              "    <tr>\n",
              "      <th>09:13:31</th>\n",
              "      <td>0.041035</td>\n",
              "      <td>0.03</td>\n",
              "      <td>True</td>\n",
              "      <td>88.783317</td>\n",
              "    </tr>\n",
              "    <tr>\n",
              "      <th>09:13:36</th>\n",
              "      <td>0.032823</td>\n",
              "      <td>0.03</td>\n",
              "      <td>True</td>\n",
              "      <td>89.031244</td>\n",
              "    </tr>\n",
              "    <tr>\n",
              "      <th>09:13:45</th>\n",
              "      <td>0.031320</td>\n",
              "      <td>0.03</td>\n",
              "      <td>True</td>\n",
              "      <td>89.076629</td>\n",
              "    </tr>\n",
              "    <tr>\n",
              "      <th>09:15:15</th>\n",
              "      <td>0.042639</td>\n",
              "      <td>0.03</td>\n",
              "      <td>True</td>\n",
              "      <td>91.312828</td>\n",
              "    </tr>\n",
              "  </tbody>\n",
              "</table>\n",
              "</div>"
            ],
            "text/plain": [
              "                  loss  threshold  anomaly  values_PostStage\n",
              "Timestamp_HR                                                \n",
              "09:13:29      0.060315       0.03     True         91.848195\n",
              "09:13:31      0.041035       0.03     True         88.783317\n",
              "09:13:36      0.032823       0.03     True         89.031244\n",
              "09:13:45      0.031320       0.03     True         89.076629\n",
              "09:15:15      0.042639       0.03     True         91.312828"
            ]
          },
          "metadata": {
            "tags": []
          },
          "execution_count": 49
        }
      ]
    },
    {
      "cell_type": "code",
      "metadata": {
        "id": "87EhLWFtHBVO",
        "colab_type": "code",
        "colab": {}
      },
      "source": [
        "plt.plot(\n",
        "  val.index, \n",
        "  val.values_PostStage, \n",
        "  label='values_PostStage'\n",
        ");\n",
        "\n",
        "sns.scatterplot(\n",
        "  anomalies.index,\n",
        "  anomalies.values_PostStage,\n",
        "  color=sns.color_palette()[3],\n",
        "  s=52,\n",
        "  label='anomaly'\n",
        ")\n",
        "plt.xticks(rotation=25)\n",
        "plt.legend();"
      ],
      "execution_count": 0,
      "outputs": []
    },
    {
      "cell_type": "code",
      "metadata": {
        "id": "S2L_r7y_I26A",
        "colab_type": "code",
        "colab": {}
      },
      "source": [
        ""
      ],
      "execution_count": 0,
      "outputs": []
    }
  ]
}